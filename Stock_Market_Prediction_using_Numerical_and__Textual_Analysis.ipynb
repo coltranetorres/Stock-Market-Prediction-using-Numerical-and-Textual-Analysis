{
  "nbformat": 4,
  "nbformat_minor": 0,
  "metadata": {
    "colab": {
      "name": "Stock_Market_Prediction_using_Numerical_and _Textual_Analysis.ipynb",
      "provenance": [],
      "collapsed_sections": []
    },
    "kernelspec": {
      "name": "python3",
      "display_name": "Python 3"
    }
  },
  "cells": [
    {
      "cell_type": "code",
      "metadata": {
        "colab": {
          "resources": {
            "http://localhost:8080/nbextensions/google.colab/files.js": {
              "data": "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",
              "ok": true,
              "headers": [
                [
                  "content-type",
                  "application/javascript"
                ]
              ],
              "status": 200,
              "status_text": ""
            }
          },
          "base_uri": "https://localhost:8080/",
          "height": 72
        },
        "id": "wmYDPHFO9k05",
        "outputId": "6ad0ae58-b538-4428-825f-11d5b4d14423"
      },
      "source": [
        "from google.colab import files \n",
        "uploaded = files.upload()"
      ],
      "execution_count": 1,
      "outputs": [
        {
          "output_type": "display_data",
          "data": {
            "text/html": [
              "\n",
              "     <input type=\"file\" id=\"files-d18b6733-68c2-4fb0-af49-6b7e0ea1ede5\" name=\"files[]\" multiple disabled\n",
              "        style=\"border:none\" />\n",
              "     <output id=\"result-d18b6733-68c2-4fb0-af49-6b7e0ea1ede5\">\n",
              "      Upload widget is only available when the cell has been executed in the\n",
              "      current browser session. Please rerun this cell to enable.\n",
              "      </output>\n",
              "      <script src=\"/nbextensions/google.colab/files.js\"></script> "
            ],
            "text/plain": [
              "<IPython.core.display.HTML object>"
            ]
          },
          "metadata": {
            "tags": []
          }
        },
        {
          "output_type": "stream",
          "text": [
            "Saving ^AXJO.csv to ^AXJO (1).csv\n"
          ],
          "name": "stdout"
        }
      ]
    },
    {
      "cell_type": "code",
      "metadata": {
        "colab": {
          "resources": {
            "http://localhost:8080/nbextensions/google.colab/files.js": {
              "data": "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",
              "ok": true,
              "headers": [
                [
                  "content-type",
                  "application/javascript"
                ]
              ],
              "status": 200,
              "status_text": ""
            }
          },
          "base_uri": "https://localhost:8080/",
          "height": 72
        },
        "id": "kwZgSPj09ygc",
        "outputId": "f9fc1892-d34a-421a-b07b-4ebe67c47717"
      },
      "source": [
        "from google.colab import files \n",
        "uploaded = files.upload()"
      ],
      "execution_count": 2,
      "outputs": [
        {
          "output_type": "display_data",
          "data": {
            "text/html": [
              "\n",
              "     <input type=\"file\" id=\"files-427c8ec9-299d-4c31-bd83-87146936007b\" name=\"files[]\" multiple disabled\n",
              "        style=\"border:none\" />\n",
              "     <output id=\"result-427c8ec9-299d-4c31-bd83-87146936007b\">\n",
              "      Upload widget is only available when the cell has been executed in the\n",
              "      current browser session. Please rerun this cell to enable.\n",
              "      </output>\n",
              "      <script src=\"/nbextensions/google.colab/files.js\"></script> "
            ],
            "text/plain": [
              "<IPython.core.display.HTML object>"
            ]
          },
          "metadata": {
            "tags": []
          }
        },
        {
          "output_type": "stream",
          "text": [
            "Saving australia_news.csv to australia_news (1).csv\n"
          ],
          "name": "stdout"
        }
      ]
    },
    {
      "cell_type": "code",
      "metadata": {
        "colab": {
          "base_uri": "https://localhost:8080/"
        },
        "id": "Sji9yrmu-w8r",
        "outputId": "2872f083-2ce5-45b0-ffad-723ac9a50ba2"
      },
      "source": [
        "import os\n",
        "import warnings\n",
        "warnings.filterwarnings('ignore')\n",
        "import pandas as pd\n",
        "import numpy as np\n",
        "import matplotlib.pyplot as plt\n",
        "import itertools\n",
        "from statsmodels.tsa.stattools import adfuller, acf, pacf\n",
        "from statsmodels.tsa.arima_model import ARIMA\n",
        "import nltk\n",
        "import re\n",
        "from nltk.corpus import stopwords\n",
        "nltk.download('stopwords')\n",
        "nltk.download('vader_lexicon')\n",
        "from textblob import TextBlob\n",
        "from nltk.sentiment.vader import SentimentIntensityAnalyzer\n",
        "from nltk.stem.porter import PorterStemmer\n",
        "from sklearn.metrics import mean_squared_error\n",
        "from sklearn.model_selection import train_test_split\n",
        "from sklearn.ensemble import RandomForestRegressor, AdaBoostRegressor\n",
        "import xgboost \n",
        "import lightgbm"
      ],
      "execution_count": 4,
      "outputs": [
        {
          "output_type": "stream",
          "text": [
            "[nltk_data] Downloading package stopwords to /root/nltk_data...\n",
            "[nltk_data]   Package stopwords is already up-to-date!\n",
            "[nltk_data] Downloading package vader_lexicon to /root/nltk_data...\n",
            "[nltk_data]   Package vader_lexicon is already up-to-date!\n"
          ],
          "name": "stdout"
        }
      ]
    },
    {
      "cell_type": "code",
      "metadata": {
        "colab": {
          "base_uri": "https://localhost:8080/"
        },
        "id": "TH0Gh0dK-0fw",
        "outputId": "e417d64e-ef95-46fe-df3a-b3a327be4da2"
      },
      "source": [
        "!pip install pmdarima"
      ],
      "execution_count": 5,
      "outputs": [
        {
          "output_type": "stream",
          "text": [
            "Requirement already satisfied: pmdarima in /usr/local/lib/python3.6/dist-packages (1.8.0)\n",
            "Requirement already satisfied: setuptools!=50.0.0,>=38.6.0 in /usr/local/lib/python3.6/dist-packages (from pmdarima) (50.3.2)\n",
            "Requirement already satisfied: statsmodels!=0.12.0,>=0.11 in /usr/local/lib/python3.6/dist-packages (from pmdarima) (0.12.1)\n",
            "Requirement already satisfied: scipy>=1.3.2 in /usr/local/lib/python3.6/dist-packages (from pmdarima) (1.4.1)\n",
            "Requirement already satisfied: urllib3 in /usr/local/lib/python3.6/dist-packages (from pmdarima) (1.24.3)\n",
            "Requirement already satisfied: numpy>=1.17.3 in /usr/local/lib/python3.6/dist-packages (from pmdarima) (1.18.5)\n",
            "Requirement already satisfied: joblib>=0.11 in /usr/local/lib/python3.6/dist-packages (from pmdarima) (0.17.0)\n",
            "Requirement already satisfied: scikit-learn>=0.22 in /usr/local/lib/python3.6/dist-packages (from pmdarima) (0.22.2.post1)\n",
            "Requirement already satisfied: pandas>=0.19 in /usr/local/lib/python3.6/dist-packages (from pmdarima) (1.1.4)\n",
            "Requirement already satisfied: Cython<0.29.18,>=0.29 in /usr/local/lib/python3.6/dist-packages (from pmdarima) (0.29.17)\n",
            "Requirement already satisfied: patsy>=0.5 in /usr/local/lib/python3.6/dist-packages (from statsmodels!=0.12.0,>=0.11->pmdarima) (0.5.1)\n",
            "Requirement already satisfied: pytz>=2017.2 in /usr/local/lib/python3.6/dist-packages (from pandas>=0.19->pmdarima) (2018.9)\n",
            "Requirement already satisfied: python-dateutil>=2.7.3 in /usr/local/lib/python3.6/dist-packages (from pandas>=0.19->pmdarima) (2.8.1)\n",
            "Requirement already satisfied: six in /usr/local/lib/python3.6/dist-packages (from patsy>=0.5->statsmodels!=0.12.0,>=0.11->pmdarima) (1.15.0)\n"
          ],
          "name": "stdout"
        }
      ]
    },
    {
      "cell_type": "markdown",
      "metadata": {
        "id": "Zs0DDPOZ_IJw"
      },
      "source": [
        "**TIME-SERIES ANALYSIS OF AXJO STOCKS**"
      ]
    },
    {
      "cell_type": "code",
      "metadata": {
        "colab": {
          "base_uri": "https://localhost:8080/"
        },
        "id": "uZJmZhUB_Q8n",
        "outputId": "21cd1090-8b1c-455b-c67f-0f5704f52232"
      },
      "source": [
        "df_prices = pd.read_csv('^AXJO.csv')\n",
        "print(df_prices.head())\n",
        "print(df_prices.size)"
      ],
      "execution_count": 6,
      "outputs": [
        {
          "output_type": "stream",
          "text": [
            "         Date         Open         High  ...        Close    Adj Close  Volume\n",
            "0  2015-01-02  5411.000000  5436.299805  ...  5435.899902  5435.899902     0.0\n",
            "1  2015-01-05  5435.899902  5470.399902  ...  5450.299805  5450.299805     0.0\n",
            "2  2015-01-06  5450.299805  5450.299805  ...  5364.799805  5364.799805     0.0\n",
            "3  2015-01-07  5364.799805  5369.799805  ...  5353.600098  5353.600098     0.0\n",
            "4  2015-01-08  5353.600098  5395.799805  ...  5381.500000  5381.500000     0.0\n",
            "\n",
            "[5 rows x 7 columns]\n",
            "8862\n"
          ],
          "name": "stdout"
        }
      ]
    },
    {
      "cell_type": "code",
      "metadata": {
        "colab": {
          "base_uri": "https://localhost:8080/"
        },
        "id": "CSoRUvWl_Tsz",
        "outputId": "1513ceac-6b07-474c-f801-07496c1095a4"
      },
      "source": [
        "#Converting Date column to datetime datatype\n",
        "df_prices['Date'] = pd.to_datetime(df_prices['Date'])\n",
        "df_prices.info()"
      ],
      "execution_count": 7,
      "outputs": [
        {
          "output_type": "stream",
          "text": [
            "<class 'pandas.core.frame.DataFrame'>\n",
            "RangeIndex: 1266 entries, 0 to 1265\n",
            "Data columns (total 7 columns):\n",
            " #   Column     Non-Null Count  Dtype         \n",
            "---  ------     --------------  -----         \n",
            " 0   Date       1266 non-null   datetime64[ns]\n",
            " 1   Open       1264 non-null   float64       \n",
            " 2   High       1264 non-null   float64       \n",
            " 3   Low        1264 non-null   float64       \n",
            " 4   Close      1264 non-null   float64       \n",
            " 5   Adj Close  1264 non-null   float64       \n",
            " 6   Volume     1264 non-null   float64       \n",
            "dtypes: datetime64[ns](1), float64(6)\n",
            "memory usage: 69.4 KB\n"
          ],
          "name": "stdout"
        }
      ]
    },
    {
      "cell_type": "code",
      "metadata": {
        "id": "gqo9E28F_W_A"
      },
      "source": [
        "df_prices.dropna(inplace = True)"
      ],
      "execution_count": 8,
      "outputs": []
    },
    {
      "cell_type": "code",
      "metadata": {
        "colab": {
          "base_uri": "https://localhost:8080/",
          "height": 391
        },
        "id": "AmeWEdlj_ZkI",
        "outputId": "cf7f0f7b-f9ec-4a12-c2f4-f036aa4b47a5"
      },
      "source": [
        "plt.figure(figsize=(10, 6))\n",
        "df_prices['Close'].plot()\n",
        "plt.ylabel('Close')"
      ],
      "execution_count": 9,
      "outputs": [
        {
          "output_type": "execute_result",
          "data": {
            "text/plain": [
              "Text(0, 0.5, 'Close')"
            ]
          },
          "metadata": {
            "tags": []
          },
          "execution_count": 9
        },
        {
          "output_type": "display_data",
          "data": {
            "image/png": "[encoded data removed]",
            "text/plain": [
              "<Figure size 720x432 with 1 Axes>"
            ]
          },
          "metadata": {
            "tags": [],
            "needs_background": "light"
          }
        }
      ]
    },
    {
      "cell_type": "code",
      "metadata": {
        "colab": {
          "base_uri": "https://localhost:8080/",
          "height": 391
        },
        "id": "mibLSLyz_evC",
        "outputId": "743930b3-2bad-4b60-977f-0acfb23886dc"
      },
      "source": [
        "#Plotting moving average\n",
        "close = df_prices['Close']\n",
        "ma = close.rolling(window = 50).mean()\n",
        "std = close.rolling(window = 50).std()\n",
        "\n",
        "plt.figure(figsize=(10, 6))\n",
        "df_prices['Close'].plot(color = 'b', label = 'Close')\n",
        "ma.plot(color = 'r', label = 'Rolling Mean')\n",
        "std.plot(label = 'Rolling Standard Deviation')\n",
        "plt.legend()"
      ],
      "execution_count": 10,
      "outputs": [
        {
          "output_type": "execute_result",
          "data": {
            "text/plain": [
              "<matplotlib.legend.Legend at 0x7f7524cab400>"
            ]
          },
          "metadata": {
            "tags": []
          },
          "execution_count": 10
        },
        {
          "output_type": "display_data",
          "data": {
            "image/png": "[encoded data removed]",
            "text/plain": [
              "<Figure size 720x432 with 1 Axes>"
            ]
          },
          "metadata": {
            "tags": [],
            "needs_background": "light"
          }
        }
      ]
    },
    {
      "cell_type": "code",
      "metadata": {
        "colab": {
          "base_uri": "https://localhost:8080/",
          "height": 407
        },
        "id": "Y7OeNGaO_hvA",
        "outputId": "e66fa8d6-6d9e-4e89-a795-8636abb547f6"
      },
      "source": [
        "#Plotting returns\n",
        "returns = close / close.shift(1) - 1\n",
        "\n",
        "plt.figure(figsize = (10,6))\n",
        "returns.plot(label='Return', color = 'g')\n",
        "plt.title(\"Returns\")"
      ],
      "execution_count": 11,
      "outputs": [
        {
          "output_type": "execute_result",
          "data": {
            "text/plain": [
              "Text(0.5, 1.0, 'Returns')"
            ]
          },
          "metadata": {
            "tags": []
          },
          "execution_count": 11
        },
        {
          "output_type": "display_data",
          "data": {
            "image/png": "[encoded data removed]",
            "text/plain": [
              "<Figure size 720x432 with 1 Axes>"
            ]
          },
          "metadata": {
            "tags": [],
            "needs_background": "light"
          }
        }
      ]
    },
    {
      "cell_type": "code",
      "metadata": {
        "id": "_9Ffd8nO_kUA"
      },
      "source": [
        "train = df_prices[:1000]\n",
        "test = df_prices[1000:]"
      ],
      "execution_count": 12,
      "outputs": []
    },
    {
      "cell_type": "code",
      "metadata": {
        "colab": {
          "base_uri": "https://localhost:8080/",
          "height": 620
        },
        "id": "FlHZQzPz_mZo",
        "outputId": "d3d23dee-c3fe-422a-f8d4-f9ecf2bea16d"
      },
      "source": [
        "#Stationarity test\n",
        "def test_stationarity(timeseries):\n",
        "\n",
        " #Determing rolling statistics\n",
        " rolmean = timeseries.rolling(20).mean()\n",
        " rolstd = timeseries.rolling(20).std()\n",
        "\n",
        " #Plot rolling statistics:\n",
        " plt.figure(figsize = (10,8))\n",
        " plt.plot(timeseries, color = 'y', label = 'original')\n",
        " plt.plot(rolmean, color = 'r', label = 'rolling mean')\n",
        " plt.plot(rolstd, color = 'b', label = 'rolling std')\n",
        " plt.xlabel('Date')\n",
        " plt.legend()\n",
        " plt.title('Rolling Mean and Standard Deviation',  fontsize = 20)\n",
        " plt.show(block = False)\n",
        " \n",
        " print('Results of dickey fuller test')\n",
        " result = adfuller(timeseries, autolag = 'AIC')\n",
        " labels = ['ADF Test Statistic','p-value','#Lags Used','Number of Observations Used']\n",
        " for value,label in zip(result, labels):\n",
        "   print(label+' : '+str(value) )\n",
        " if result[1] <= 0.05:\n",
        "   print(\"Strong evidence against the null hypothesis(Ho), reject the null hypothesis. Data is stationary\")\n",
        " else:\n",
        "   print(\"Weak evidence against null hypothesis, time series is non-stationary \")\n",
        "test_stationarity(train['Close'])\n"
      ],
      "execution_count": 13,
      "outputs": [
        {
          "output_type": "display_data",
          "data": {
            "image/png": "[encoded data removed]",
            "text/plain": [
              "<Figure size 720x576 with 1 Axes>"
            ]
          },
          "metadata": {
            "tags": [],
            "needs_background": "light"
          }
        },
        {
          "output_type": "stream",
          "text": [
            "Results of dickey fuller test\n",
            "ADF Test Statistic : -2.06210460581863\n",
            "p-value : 0.26002289258636335\n",
            "#Lags Used : 0\n",
            "Number of Observations Used : 999\n",
            "Weak evidence against null hypothesis, time series is non-stationary \n"
          ],
          "name": "stdout"
        }
      ]
    },
    {
      "cell_type": "code",
      "metadata": {
        "colab": {
          "base_uri": "https://localhost:8080/",
          "height": 391
        },
        "id": "it3ydu0b_oAY",
        "outputId": "f82d01b3-c17d-4ee7-cf16-3352a61837d4"
      },
      "source": [
        "train_log = np.log(train['Close']) \n",
        "test_log = np.log(test['Close'])\n",
        "\n",
        "mav = train_log.rolling(24).mean() \n",
        "plt.figure(figsize = (10,6))\n",
        "plt.plot(train_log) \n",
        "plt.plot(mav, color = 'red')"
      ],
      "execution_count": 14,
      "outputs": [
        {
          "output_type": "execute_result",
          "data": {
            "text/plain": [
              "[<matplotlib.lines.Line2D at 0x7f75246f17b8>]"
            ]
          },
          "metadata": {
            "tags": []
          },
          "execution_count": 14
        },
        {
          "output_type": "display_data",
          "data": {
            "image/png": "[encoded data removed]",
            "text/plain": [
              "<Figure size 720x432 with 1 Axes>"
            ]
          },
          "metadata": {
            "tags": [],
            "needs_background": "light"
          }
        }
      ]
    },
    {
      "cell_type": "code",
      "metadata": {
        "colab": {
          "base_uri": "https://localhost:8080/",
          "height": 620
        },
        "id": "HTyQNYHI_t4o",
        "outputId": "00c1abbe-81f7-4f52-94f9-b02369aae17e"
      },
      "source": [
        "train_log.dropna(inplace = True)\n",
        "test_log.dropna(inplace = True)\n",
        "\n",
        "test_stationarity(train_log)"
      ],
      "execution_count": 15,
      "outputs": [
        {
          "output_type": "display_data",
          "data": {
            "image/png": "[encoded data removed]",
            "text/plain": [
              "<Figure size 720x576 with 1 Axes>"
            ]
          },
          "metadata": {
            "tags": [],
            "needs_background": "light"
          }
        },
        {
          "output_type": "stream",
          "text": [
            "Results of dickey fuller test\n",
            "ADF Test Statistic : -2.10091549160808\n",
            "p-value : 0.24414663710966727\n",
            "#Lags Used : 0\n",
            "Number of Observations Used : 999\n",
            "Weak evidence against null hypothesis, time series is non-stationary \n"
          ],
          "name": "stdout"
        }
      ]
    },
    {
      "cell_type": "code",
      "metadata": {
        "colab": {
          "base_uri": "https://localhost:8080/",
          "height": 620
        },
        "id": "Oi_gY0Xb_wjp",
        "outputId": "b9f9077e-85dc-4bc3-aa11-a0a9627b5fbb"
      },
      "source": [
        "train_log_diff = train_log - mav\n",
        "train_log_diff.dropna(inplace = True)\n",
        "\n",
        "test_stationarity(train_log_diff)"
      ],
      "execution_count": 16,
      "outputs": [
        {
          "output_type": "display_data",
          "data": {
            "image/png": "[encoded data removed]",
            "text/plain": [
              "<Figure size 720x576 with 1 Axes>"
            ]
          },
          "metadata": {
            "tags": [],
            "needs_background": "light"
          }
        },
        {
          "output_type": "stream",
          "text": [
            "Results of dickey fuller test\n",
            "ADF Test Statistic : -6.9974894116259385\n",
            "p-value : 7.468388129023152e-10\n",
            "#Lags Used : 0\n",
            "Number of Observations Used : 976\n",
            "Strong evidence against the null hypothesis(Ho), reject the null hypothesis. Data is stationary\n"
          ],
          "name": "stdout"
        }
      ]
    },
    {
      "cell_type": "code",
      "metadata": {
        "colab": {
          "base_uri": "https://localhost:8080/"
        },
        "id": "OXz-1tZl_3cf",
        "outputId": "91ad1063-3199-40da-ec7c-b8a2f17dba51"
      },
      "source": [
        "#Using auto arima to make predictions using log data\n",
        "from pmdarima import auto_arima\n",
        "model = auto_arima(train_log, trace = True, error_action = 'ignore', suppress_warnings = True)\n",
        "model.fit(train_log)\n",
        "predictions = model.predict(n_periods = len(test))\n",
        "predictions = pd.DataFrame(predictions,index = test_log.index,columns=['Prediction'])"
      ],
      "execution_count": 17,
      "outputs": [
        {
          "output_type": "stream",
          "text": [
            "Performing stepwise search to minimize aic\n",
            " ARIMA(2,1,2)(0,0,0)[0] intercept   : AIC=-6710.743, Time=0.59 sec\n",
            " ARIMA(0,1,0)(0,0,0)[0] intercept   : AIC=-6718.743, Time=0.21 sec\n",
            " ARIMA(1,1,0)(0,0,0)[0] intercept   : AIC=-6716.745, Time=0.16 sec\n",
            " ARIMA(0,1,1)(0,0,0)[0] intercept   : AIC=-6716.744, Time=0.42 sec\n",
            " ARIMA(0,1,0)(0,0,0)[0]             : AIC=-6720.720, Time=0.09 sec\n",
            " ARIMA(1,1,1)(0,0,0)[0] intercept   : AIC=-6714.742, Time=0.18 sec\n",
            "\n",
            "Best model:  ARIMA(0,1,0)(0,0,0)[0]          \n",
            "Total fit time: 1.662 seconds\n"
          ],
          "name": "stdout"
        }
      ]
    },
    {
      "cell_type": "code",
      "metadata": {
        "colab": {
          "base_uri": "https://localhost:8080/",
          "height": 312
        },
        "id": "bdESXAb5_7eh",
        "outputId": "adcbd974-dd0f-49a8-e6ae-c9210663d23e"
      },
      "source": [
        "plt.plot(train_log, label='Train')\n",
        "plt.plot(test_log, label='Test')\n",
        "plt.plot(predictions, label='Prediction')\n",
        "plt.title('BSESN Stock Price Prediction')\n",
        "plt.xlabel('Time')\n",
        "plt.ylabel('Actual Stock Price')"
      ],
      "execution_count": 18,
      "outputs": [
        {
          "output_type": "execute_result",
          "data": {
            "text/plain": [
              "Text(0, 0.5, 'Actual Stock Price')"
            ]
          },
          "metadata": {
            "tags": []
          },
          "execution_count": 18
        },
        {
          "output_type": "display_data",
          "data": {
            "image/png": "[encoded data removed]",
            "text/plain": [
              "<Figure size 432x288 with 1 Axes>"
            ]
          },
          "metadata": {
            "tags": [],
            "needs_background": "light"
          }
        }
      ]
    },
    {
      "cell_type": "code",
      "metadata": {
        "colab": {
          "base_uri": "https://localhost:8080/"
        },
        "id": "ncHpw4YYAAGh",
        "outputId": "2416017a-5839-4948-fd3f-11482533e9a2"
      },
      "source": [
        "#Calculating error\n",
        "rms = np.sqrt(mean_squared_error(test_log,predictions))\n",
        "print(\"RMSE : \", rms)"
      ],
      "execution_count": 19,
      "outputs": [
        {
          "output_type": "stream",
          "text": [
            "RMSE :  0.13609085335232343\n"
          ],
          "name": "stdout"
        }
      ]
    },
    {
      "cell_type": "markdown",
      "metadata": {
        "id": "BDIZV1PSAExg"
      },
      "source": [
        "**TEXTUAL ANALYSIS OF AUSTRALIA NEWS HEADLINES**"
      ]
    },
    {
      "cell_type": "code",
      "metadata": {
        "colab": {
          "base_uri": "https://localhost:8080/",
          "height": 419
        },
        "id": "fSPJnWZKAIml",
        "outputId": "ff8100fe-1921-40aa-8715-29ee43375669"
      },
      "source": [
        "cols = ['Date','News']\n",
        "df_news = pd.read_csv('australia_news.csv', names = cols)\n",
        "df_news"
      ],
      "execution_count": 20,
      "outputs": [
        {
          "output_type": "execute_result",
          "data": {
            "text/html": [
              "<div>\n",
              "<style scoped>\n",
              "    .dataframe tbody tr th:only-of-type {\n",
              "        vertical-align: middle;\n",
              "    }\n",
              "\n",
              "    .dataframe tbody tr th {\n",
              "        vertical-align: top;\n",
              "    }\n",
              "\n",
              "    .dataframe thead th {\n",
              "        text-align: right;\n",
              "    }\n",
              "</style>\n",
              "<table border=\"1\" class=\"dataframe\">\n",
              "  <thead>\n",
              "    <tr style=\"text-align: right;\">\n",
              "      <th></th>\n",
              "      <th>Date</th>\n",
              "      <th>News</th>\n",
              "    </tr>\n",
              "  </thead>\n",
              "  <tbody>\n",
              "    <tr>\n",
              "      <th>0</th>\n",
              "      <td>publish_date</td>\n",
              "      <td>headline_text</td>\n",
              "    </tr>\n",
              "    <tr>\n",
              "      <th>1</th>\n",
              "      <td>20150102</td>\n",
              "      <td>abalone salmon fish farming environment</td>\n",
              "    </tr>\n",
              "    <tr>\n",
              "      <th>2</th>\n",
              "      <td>20150102</td>\n",
              "      <td>abalone salmon tassal huon aquaculture aquacul...</td>\n",
              "    </tr>\n",
              "    <tr>\n",
              "      <th>3</th>\n",
              "      <td>20150102</td>\n",
              "      <td>act government approves changes to asbestos ma...</td>\n",
              "    </tr>\n",
              "    <tr>\n",
              "      <th>4</th>\n",
              "      <td>20150102</td>\n",
              "      <td>activist to send copies of the interview to no...</td>\n",
              "    </tr>\n",
              "    <tr>\n",
              "      <th>...</th>\n",
              "      <td>...</td>\n",
              "      <td>...</td>\n",
              "    </tr>\n",
              "    <tr>\n",
              "      <th>260403</th>\n",
              "      <td>20191231</td>\n",
              "      <td>vision of flames approaching corryong in victoria</td>\n",
              "    </tr>\n",
              "    <tr>\n",
              "      <th>260404</th>\n",
              "      <td>20191231</td>\n",
              "      <td>wa police and government backflip on drug amne...</td>\n",
              "    </tr>\n",
              "    <tr>\n",
              "      <th>260405</th>\n",
              "      <td>20191231</td>\n",
              "      <td>we have fears for their safety: victorian premier</td>\n",
              "    </tr>\n",
              "    <tr>\n",
              "      <th>260406</th>\n",
              "      <td>20191231</td>\n",
              "      <td>when do the 20s start</td>\n",
              "    </tr>\n",
              "    <tr>\n",
              "      <th>260407</th>\n",
              "      <td>20191231</td>\n",
              "      <td>yarraville shooting woman dead man critically ...</td>\n",
              "    </tr>\n",
              "  </tbody>\n",
              "</table>\n",
              "<p>260408 rows × 2 columns</p>\n",
              "</div>"
            ],
            "text/plain": [
              "                Date                                               News\n",
              "0       publish_date                                      headline_text\n",
              "1           20150102            abalone salmon fish farming environment\n",
              "2           20150102  abalone salmon tassal huon aquaculture aquacul...\n",
              "3           20150102  act government approves changes to asbestos ma...\n",
              "4           20150102  activist to send copies of the interview to no...\n",
              "...              ...                                                ...\n",
              "260403      20191231  vision of flames approaching corryong in victoria\n",
              "260404      20191231  wa police and government backflip on drug amne...\n",
              "260405      20191231  we have fears for their safety: victorian premier\n",
              "260406      20191231                              when do the 20s start\n",
              "260407      20191231  yarraville shooting woman dead man critically ...\n",
              "\n",
              "[260408 rows x 2 columns]"
            ]
          },
          "metadata": {
            "tags": []
          },
          "execution_count": 20
        }
      ]
    },
    {
      "cell_type": "code",
      "metadata": {
        "colab": {
          "base_uri": "https://localhost:8080/"
        },
        "id": "Tr6DLMzGAeXD",
        "outputId": "41689fcf-603a-4be3-cda0-f120d2d613ee"
      },
      "source": [
        "df_news.drop(0, inplace=True)\n",
        "df_news.info()"
      ],
      "execution_count": 21,
      "outputs": [
        {
          "output_type": "stream",
          "text": [
            "<class 'pandas.core.frame.DataFrame'>\n",
            "Int64Index: 260407 entries, 1 to 260407\n",
            "Data columns (total 2 columns):\n",
            " #   Column  Non-Null Count   Dtype \n",
            "---  ------  --------------   ----- \n",
            " 0   Date    260407 non-null  object\n",
            " 1   News    260407 non-null  object\n",
            "dtypes: object(2)\n",
            "memory usage: 6.0+ MB\n"
          ],
          "name": "stdout"
        }
      ]
    },
    {
      "cell_type": "code",
      "metadata": {
        "colab": {
          "base_uri": "https://localhost:8080/",
          "height": 419
        },
        "id": "Mgafe7i1Avua",
        "outputId": "c8134116-6d70-4bfc-a924-6746b1a9ff08"
      },
      "source": [
        "#Converting data type of Date column \n",
        "df_news['Date'] = pd.to_datetime(df_news['Date'],format= '%Y%m%d')\n",
        "df_news"
      ],
      "execution_count": 22,
      "outputs": [
        {
          "output_type": "execute_result",
          "data": {
            "text/html": [
              "<div>\n",
              "<style scoped>\n",
              "    .dataframe tbody tr th:only-of-type {\n",
              "        vertical-align: middle;\n",
              "    }\n",
              "\n",
              "    .dataframe tbody tr th {\n",
              "        vertical-align: top;\n",
              "    }\n",
              "\n",
              "    .dataframe thead th {\n",
              "        text-align: right;\n",
              "    }\n",
              "</style>\n",
              "<table border=\"1\" class=\"dataframe\">\n",
              "  <thead>\n",
              "    <tr style=\"text-align: right;\">\n",
              "      <th></th>\n",
              "      <th>Date</th>\n",
              "      <th>News</th>\n",
              "    </tr>\n",
              "  </thead>\n",
              "  <tbody>\n",
              "    <tr>\n",
              "      <th>1</th>\n",
              "      <td>2015-01-02</td>\n",
              "      <td>abalone salmon fish farming environment</td>\n",
              "    </tr>\n",
              "    <tr>\n",
              "      <th>2</th>\n",
              "      <td>2015-01-02</td>\n",
              "      <td>abalone salmon tassal huon aquaculture aquacul...</td>\n",
              "    </tr>\n",
              "    <tr>\n",
              "      <th>3</th>\n",
              "      <td>2015-01-02</td>\n",
              "      <td>act government approves changes to asbestos ma...</td>\n",
              "    </tr>\n",
              "    <tr>\n",
              "      <th>4</th>\n",
              "      <td>2015-01-02</td>\n",
              "      <td>activist to send copies of the interview to no...</td>\n",
              "    </tr>\n",
              "    <tr>\n",
              "      <th>5</th>\n",
              "      <td>2015-01-02</td>\n",
              "      <td>agricultural graduate job access limited by la...</td>\n",
              "    </tr>\n",
              "    <tr>\n",
              "      <th>...</th>\n",
              "      <td>...</td>\n",
              "      <td>...</td>\n",
              "    </tr>\n",
              "    <tr>\n",
              "      <th>260403</th>\n",
              "      <td>2019-12-31</td>\n",
              "      <td>vision of flames approaching corryong in victoria</td>\n",
              "    </tr>\n",
              "    <tr>\n",
              "      <th>260404</th>\n",
              "      <td>2019-12-31</td>\n",
              "      <td>wa police and government backflip on drug amne...</td>\n",
              "    </tr>\n",
              "    <tr>\n",
              "      <th>260405</th>\n",
              "      <td>2019-12-31</td>\n",
              "      <td>we have fears for their safety: victorian premier</td>\n",
              "    </tr>\n",
              "    <tr>\n",
              "      <th>260406</th>\n",
              "      <td>2019-12-31</td>\n",
              "      <td>when do the 20s start</td>\n",
              "    </tr>\n",
              "    <tr>\n",
              "      <th>260407</th>\n",
              "      <td>2019-12-31</td>\n",
              "      <td>yarraville shooting woman dead man critically ...</td>\n",
              "    </tr>\n",
              "  </tbody>\n",
              "</table>\n",
              "<p>260407 rows × 2 columns</p>\n",
              "</div>"
            ],
            "text/plain": [
              "             Date                                               News\n",
              "1      2015-01-02            abalone salmon fish farming environment\n",
              "2      2015-01-02  abalone salmon tassal huon aquaculture aquacul...\n",
              "3      2015-01-02  act government approves changes to asbestos ma...\n",
              "4      2015-01-02  activist to send copies of the interview to no...\n",
              "5      2015-01-02  agricultural graduate job access limited by la...\n",
              "...           ...                                                ...\n",
              "260403 2019-12-31  vision of flames approaching corryong in victoria\n",
              "260404 2019-12-31  wa police and government backflip on drug amne...\n",
              "260405 2019-12-31  we have fears for their safety: victorian premier\n",
              "260406 2019-12-31                              when do the 20s start\n",
              "260407 2019-12-31  yarraville shooting woman dead man critically ...\n",
              "\n",
              "[260407 rows x 2 columns]"
            ]
          },
          "metadata": {
            "tags": []
          },
          "execution_count": 22
        }
      ]
    },
    {
      "cell_type": "code",
      "metadata": {
        "colab": {
          "base_uri": "https://localhost:8080/",
          "height": 419
        },
        "id": "e7HUIosxBKH6",
        "outputId": "9ad36da0-b167-4a4a-9b3b-53af8ff53d2c"
      },
      "source": [
        "#Grouping the headlines for each day\n",
        "df_news['News'] = df_news.groupby(['Date']).transform(lambda x : ' '.join(x)) \n",
        "df_news = df_news.drop_duplicates() \n",
        "df_news.reset_index(inplace = True, drop = True)\n",
        "df_news"
      ],
      "execution_count": 23,
      "outputs": [
        {
          "output_type": "execute_result",
          "data": {
            "text/html": [
              "<div>\n",
              "<style scoped>\n",
              "    .dataframe tbody tr th:only-of-type {\n",
              "        vertical-align: middle;\n",
              "    }\n",
              "\n",
              "    .dataframe tbody tr th {\n",
              "        vertical-align: top;\n",
              "    }\n",
              "\n",
              "    .dataframe thead th {\n",
              "        text-align: right;\n",
              "    }\n",
              "</style>\n",
              "<table border=\"1\" class=\"dataframe\">\n",
              "  <thead>\n",
              "    <tr style=\"text-align: right;\">\n",
              "      <th></th>\n",
              "      <th>Date</th>\n",
              "      <th>News</th>\n",
              "    </tr>\n",
              "  </thead>\n",
              "  <tbody>\n",
              "    <tr>\n",
              "      <th>0</th>\n",
              "      <td>2015-01-02</td>\n",
              "      <td>abalone salmon fish farming environment abalon...</td>\n",
              "    </tr>\n",
              "    <tr>\n",
              "      <th>1</th>\n",
              "      <td>2015-01-03</td>\n",
              "      <td>adelaide hills face most dangerous fire day si...</td>\n",
              "    </tr>\n",
              "    <tr>\n",
              "      <th>2</th>\n",
              "      <td>2015-01-04</td>\n",
              "      <td>12 year old boy dies from deodorant sniffing i...</td>\n",
              "    </tr>\n",
              "    <tr>\n",
              "      <th>3</th>\n",
              "      <td>2015-01-05</td>\n",
              "      <td>26 houses destroyed in sa fires adelaide hills...</td>\n",
              "    </tr>\n",
              "    <tr>\n",
              "      <th>4</th>\n",
              "      <td>2015-01-06</td>\n",
              "      <td>airasia black box may be buried australian tra...</td>\n",
              "    </tr>\n",
              "    <tr>\n",
              "      <th>...</th>\n",
              "      <td>...</td>\n",
              "      <td>...</td>\n",
              "    </tr>\n",
              "    <tr>\n",
              "      <th>1820</th>\n",
              "      <td>2019-12-27</td>\n",
              "      <td>abc pic of the week best of 2019 alexei navaln...</td>\n",
              "    </tr>\n",
              "    <tr>\n",
              "      <th>1821</th>\n",
              "      <td>2019-12-28</td>\n",
              "      <td>acosia red elk demonstrating jingle dress danc...</td>\n",
              "    </tr>\n",
              "    <tr>\n",
              "      <th>1822</th>\n",
              "      <td>2019-12-29</td>\n",
              "      <td>alcohol addiction made me a drug dealer and se...</td>\n",
              "    </tr>\n",
              "    <tr>\n",
              "      <th>1823</th>\n",
              "      <td>2019-12-30</td>\n",
              "      <td>aerial firefighting over bundoora african swin...</td>\n",
              "    </tr>\n",
              "    <tr>\n",
              "      <th>1824</th>\n",
              "      <td>2019-12-31</td>\n",
              "      <td>abc reporter liv casben had to seek shelter at...</td>\n",
              "    </tr>\n",
              "  </tbody>\n",
              "</table>\n",
              "<p>1825 rows × 2 columns</p>\n",
              "</div>"
            ],
            "text/plain": [
              "           Date                                               News\n",
              "0    2015-01-02  abalone salmon fish farming environment abalon...\n",
              "1    2015-01-03  adelaide hills face most dangerous fire day si...\n",
              "2    2015-01-04  12 year old boy dies from deodorant sniffing i...\n",
              "3    2015-01-05  26 houses destroyed in sa fires adelaide hills...\n",
              "4    2015-01-06  airasia black box may be buried australian tra...\n",
              "...         ...                                                ...\n",
              "1820 2019-12-27  abc pic of the week best of 2019 alexei navaln...\n",
              "1821 2019-12-28  acosia red elk demonstrating jingle dress danc...\n",
              "1822 2019-12-29  alcohol addiction made me a drug dealer and se...\n",
              "1823 2019-12-30  aerial firefighting over bundoora african swin...\n",
              "1824 2019-12-31  abc reporter liv casben had to seek shelter at...\n",
              "\n",
              "[1825 rows x 2 columns]"
            ]
          },
          "metadata": {
            "tags": []
          },
          "execution_count": 23
        }
      ]
    },
    {
      "cell_type": "code",
      "metadata": {
        "colab": {
          "base_uri": "https://localhost:8080/"
        },
        "id": "bJMAJdPHBMTJ",
        "outputId": "99829512-8995-42f6-bf57-4ff8fa57a263"
      },
      "source": [
        "df_news['News']"
      ],
      "execution_count": 24,
      "outputs": [
        {
          "output_type": "execute_result",
          "data": {
            "text/plain": [
              "0       abalone salmon fish farming environment abalon...\n",
              "1       adelaide hills face most dangerous fire day si...\n",
              "2       12 year old boy dies from deodorant sniffing i...\n",
              "3       26 houses destroyed in sa fires adelaide hills...\n",
              "4       airasia black box may be buried australian tra...\n",
              "                              ...                        \n",
              "1820    abc pic of the week best of 2019 alexei navaln...\n",
              "1821    acosia red elk demonstrating jingle dress danc...\n",
              "1822    alcohol addiction made me a drug dealer and se...\n",
              "1823    aerial firefighting over bundoora african swin...\n",
              "1824    abc reporter liv casben had to seek shelter at...\n",
              "Name: News, Length: 1825, dtype: object"
            ]
          },
          "metadata": {
            "tags": []
          },
          "execution_count": 24
        }
      ]
    },
    {
      "cell_type": "code",
      "metadata": {
        "id": "OLKYIO_TBOY5"
      },
      "source": [
        "#Cleaning the tweets\n",
        "\n",
        "def decontracted(phrase):\n",
        "   # specific\n",
        "   phrase = re.sub(r\"won't\", \"will not\", phrase)\n",
        "   phrase = re.sub(r\"can\\'t\", \"can not\", phrase)\n",
        "   \n",
        "   # general\n",
        "   phrase = re.sub(r\"n\\'t\", \" not\", phrase)\n",
        "   phrase = re.sub(r\"\\'re\", \" are\", phrase)\n",
        "   phrase = re.sub(r\"\\'s\", \" is\", phrase)\n",
        "   phrase = re.sub(r\"\\'d\", \" would\", phrase)\n",
        "   phrase = re.sub(r\"\\'ll\", \" will\", phrase)\n",
        "   phrase = re.sub(r\"\\'t\", \" not\", phrase)\n",
        "   phrase = re.sub(r\"\\'ve\", \" have\", phrase)\n",
        "   phrase = re.sub(r\"\\'m\", \" am\", phrase)\n",
        "   return phrase\n",
        " \n",
        "def clean(text):\n",
        "   text = str(text)\n",
        "   text = text.lower()\n",
        "   text = re.sub(r'http\\S+', ' ', text)\n",
        "   text = decontracted(text)\n",
        "   text = re.sub(r'\\(([^)]+)\\)', \" \", text)\n",
        "   text = text.replace('etmarkets', ' ').replace('marketupdates', ' ').replace('newsalert', ' ').replace('ndtv', ' ').replace('moneycontrol', ' ').replace('here is why', ' ')\n",
        "   text = text.replace('marketsupdate', ' ').replace('biznews', ' ').replace('click here', ' ').replace('live updates', ' ').replace('et now', ' ')\n",
        "   text = re.sub(r'[^a-zA-Z ]+', ' ', text)\n",
        "   text = re.sub(r' \\w{1,2}_', ' ', text)\n",
        "   text = re.sub('\\s+',' ', text)\n",
        "   return text"
      ],
      "execution_count": 25,
      "outputs": []
    },
    {
      "cell_type": "code",
      "metadata": {
        "id": "4XGz_5CfBQLS"
      },
      "source": [
        "df_news.News = df_news.News.apply(lambda x: clean(x))"
      ],
      "execution_count": 26,
      "outputs": []
    },
    {
      "cell_type": "code",
      "metadata": {
        "colab": {
          "base_uri": "https://localhost:8080/"
        },
        "id": "Q3BmSSfcBRiq",
        "outputId": "701836c8-2ac5-42f1-fd5c-fb348fe005af"
      },
      "source": [
        "df_news['News']"
      ],
      "execution_count": 27,
      "outputs": [
        {
          "output_type": "execute_result",
          "data": {
            "text/plain": [
              "0       abalone salmon fish farming environment abalon...\n",
              "1       adelaide hills face most dangerous fire day si...\n",
              "2        year old boy dies from deodorant sniffing in ...\n",
              "3        houses destroyed in sa fires adelaide hills f...\n",
              "4       airasia black box may be buried australian tra...\n",
              "                              ...                        \n",
              "1820    abc pic of the week best of alexei navalny off...\n",
              "1821    acosia red elk demonstrating jingle dress danc...\n",
              "1822    alcohol addiction made me a drug dealer and se...\n",
              "1823    aerial firefighting over bundoora african swin...\n",
              "1824    abc reporter liv casben had to seek shelter at...\n",
              "Name: News, Length: 1825, dtype: object"
            ]
          },
          "metadata": {
            "tags": []
          },
          "execution_count": 27
        }
      ]
    },
    {
      "cell_type": "code",
      "metadata": {
        "id": "YoVPvMJ4BTWi"
      },
      "source": [
        "#Functions to get the subjectivity and polarity\n",
        "def getSubjectivity(text):\n",
        "  return TextBlob(text).sentiment.subjectivity\n",
        "\n",
        "def getPolarity(text):\n",
        "  return  TextBlob(text).sentiment.polarity"
      ],
      "execution_count": 28,
      "outputs": []
    },
    {
      "cell_type": "code",
      "metadata": {
        "colab": {
          "base_uri": "https://localhost:8080/",
          "height": 419
        },
        "id": "i97cCxgmBW_h",
        "outputId": "e9d9c2ec-14b2-482d-fa64-0bc8e39b573a"
      },
      "source": [
        "#Adding subjectivity and polarity columns\n",
        "df_news['Subjectivity'] = df_news['News'].apply(getSubjectivity)\n",
        "df_news['Polarity'] = df_news['News'].apply(getPolarity)\n",
        "df_news"
      ],
      "execution_count": 29,
      "outputs": [
        {
          "output_type": "execute_result",
          "data": {
            "text/html": [
              "<div>\n",
              "<style scoped>\n",
              "    .dataframe tbody tr th:only-of-type {\n",
              "        vertical-align: middle;\n",
              "    }\n",
              "\n",
              "    .dataframe tbody tr th {\n",
              "        vertical-align: top;\n",
              "    }\n",
              "\n",
              "    .dataframe thead th {\n",
              "        text-align: right;\n",
              "    }\n",
              "</style>\n",
              "<table border=\"1\" class=\"dataframe\">\n",
              "  <thead>\n",
              "    <tr style=\"text-align: right;\">\n",
              "      <th></th>\n",
              "      <th>Date</th>\n",
              "      <th>News</th>\n",
              "      <th>Subjectivity</th>\n",
              "      <th>Polarity</th>\n",
              "    </tr>\n",
              "  </thead>\n",
              "  <tbody>\n",
              "    <tr>\n",
              "      <th>0</th>\n",
              "      <td>2015-01-02</td>\n",
              "      <td>abalone salmon fish farming environment abalon...</td>\n",
              "      <td>0.396251</td>\n",
              "      <td>0.072491</td>\n",
              "    </tr>\n",
              "    <tr>\n",
              "      <th>1</th>\n",
              "      <td>2015-01-03</td>\n",
              "      <td>adelaide hills face most dangerous fire day si...</td>\n",
              "      <td>0.425466</td>\n",
              "      <td>0.042467</td>\n",
              "    </tr>\n",
              "    <tr>\n",
              "      <th>2</th>\n",
              "      <td>2015-01-04</td>\n",
              "      <td>year old boy dies from deodorant sniffing in ...</td>\n",
              "      <td>0.268105</td>\n",
              "      <td>0.017887</td>\n",
              "    </tr>\n",
              "    <tr>\n",
              "      <th>3</th>\n",
              "      <td>2015-01-05</td>\n",
              "      <td>houses destroyed in sa fires adelaide hills f...</td>\n",
              "      <td>0.336124</td>\n",
              "      <td>0.049471</td>\n",
              "    </tr>\n",
              "    <tr>\n",
              "      <th>4</th>\n",
              "      <td>2015-01-06</td>\n",
              "      <td>airasia black box may be buried australian tra...</td>\n",
              "      <td>0.365741</td>\n",
              "      <td>0.096296</td>\n",
              "    </tr>\n",
              "    <tr>\n",
              "      <th>...</th>\n",
              "      <td>...</td>\n",
              "      <td>...</td>\n",
              "      <td>...</td>\n",
              "      <td>...</td>\n",
              "    </tr>\n",
              "    <tr>\n",
              "      <th>1820</th>\n",
              "      <td>2019-12-27</td>\n",
              "      <td>abc pic of the week best of alexei navalny off...</td>\n",
              "      <td>0.403056</td>\n",
              "      <td>0.147156</td>\n",
              "    </tr>\n",
              "    <tr>\n",
              "      <th>1821</th>\n",
              "      <td>2019-12-28</td>\n",
              "      <td>acosia red elk demonstrating jingle dress danc...</td>\n",
              "      <td>0.334993</td>\n",
              "      <td>0.066252</td>\n",
              "    </tr>\n",
              "    <tr>\n",
              "      <th>1822</th>\n",
              "      <td>2019-12-29</td>\n",
              "      <td>alcohol addiction made me a drug dealer and se...</td>\n",
              "      <td>0.388762</td>\n",
              "      <td>0.105008</td>\n",
              "    </tr>\n",
              "    <tr>\n",
              "      <th>1823</th>\n",
              "      <td>2019-12-30</td>\n",
              "      <td>aerial firefighting over bundoora african swin...</td>\n",
              "      <td>0.327228</td>\n",
              "      <td>0.085472</td>\n",
              "    </tr>\n",
              "    <tr>\n",
              "      <th>1824</th>\n",
              "      <td>2019-12-31</td>\n",
              "      <td>abc reporter liv casben had to seek shelter at...</td>\n",
              "      <td>0.371789</td>\n",
              "      <td>0.029711</td>\n",
              "    </tr>\n",
              "  </tbody>\n",
              "</table>\n",
              "<p>1825 rows × 4 columns</p>\n",
              "</div>"
            ],
            "text/plain": [
              "           Date  ...  Polarity\n",
              "0    2015-01-02  ...  0.072491\n",
              "1    2015-01-03  ...  0.042467\n",
              "2    2015-01-04  ...  0.017887\n",
              "3    2015-01-05  ...  0.049471\n",
              "4    2015-01-06  ...  0.096296\n",
              "...         ...  ...       ...\n",
              "1820 2019-12-27  ...  0.147156\n",
              "1821 2019-12-28  ...  0.066252\n",
              "1822 2019-12-29  ...  0.105008\n",
              "1823 2019-12-30  ...  0.085472\n",
              "1824 2019-12-31  ...  0.029711\n",
              "\n",
              "[1825 rows x 4 columns]"
            ]
          },
          "metadata": {
            "tags": []
          },
          "execution_count": 29
        }
      ]
    },
    {
      "cell_type": "code",
      "metadata": {
        "colab": {
          "base_uri": "https://localhost:8080/",
          "height": 391
        },
        "id": "Qr_WNX2ABd2J",
        "outputId": "34d386bd-38e5-45a9-f856-47eda2abd806"
      },
      "source": [
        "plt.figure(figsize = (10,6))\n",
        "df_news['Polarity'].hist(color = 'purple')"
      ],
      "execution_count": 30,
      "outputs": [
        {
          "output_type": "execute_result",
          "data": {
            "text/plain": [
              "<matplotlib.axes._subplots.AxesSubplot at 0x7f7514a61c88>"
            ]
          },
          "metadata": {
            "tags": []
          },
          "execution_count": 30
        },
        {
          "output_type": "display_data",
          "data": {
            "image/png": "[encoded data removed]",
            "text/plain": [
              "<Figure size 720x432 with 1 Axes>"
            ]
          },
          "metadata": {
            "tags": [],
            "needs_background": "light"
          }
        }
      ]
    },
    {
      "cell_type": "code",
      "metadata": {
        "colab": {
          "base_uri": "https://localhost:8080/",
          "height": 391
        },
        "id": "YXTcrIcbBfVs",
        "outputId": "73641b8e-2f52-4607-c717-2363e23cdc09"
      },
      "source": [
        "plt.figure(figsize = (10,6))\n",
        "df_news['Subjectivity'].hist(color = 'blue')"
      ],
      "execution_count": 31,
      "outputs": [
        {
          "output_type": "execute_result",
          "data": {
            "text/plain": [
              "<matplotlib.axes._subplots.AxesSubplot at 0x7f7514a610f0>"
            ]
          },
          "metadata": {
            "tags": []
          },
          "execution_count": 31
        },
        {
          "output_type": "display_data",
          "data": {
            "image/png": "[encoded data removed]",
            "text/plain": [
              "<Figure size 720x432 with 1 Axes>"
            ]
          },
          "metadata": {
            "tags": [],
            "needs_background": "light"
          }
        }
      ]
    },
    {
      "cell_type": "code",
      "metadata": {
        "id": "2ZgPdJs8BlyS"
      },
      "source": [
        "# added new words in VADER to judge stock market better\n",
        "\n",
        "new_words = {'falls': -9, 'drops': -9, 'rise': 9, 'increases': 9, 'gain': 9, 'hiked': -9, 'dips': -9, 'declines': -9,\n",
        "'decline': -9, 'hikes': -9, 'jumps': 9, 'lose': -9, 'profit': 9, 'loss': -9, 'shreds': -9, 'sell': -9, 'buy': 9, 'recession': -9,\n",
        "'australian dollar weakens': -9, 'record low': -9, 'record high': 9, 'asx up': 9, 'asx down': -9}\n",
        "\n",
        "analyser = SentimentIntensityAnalyzer()\n",
        "analyser.lexicon.update(new_words)"
      ],
      "execution_count": 32,
      "outputs": []
    },
    {
      "cell_type": "code",
      "metadata": {
        "colab": {
          "base_uri": "https://localhost:8080/",
          "height": 419
        },
        "id": "gZIYi-5PBnef",
        "outputId": "a45a2734-9fbc-4840-9a85-8f84823a5e78"
      },
      "source": [
        "# adding sentiment score to News\n",
        "\n",
        "df_news['Compound'] = [analyser.polarity_scores(v)['compound'] for v in df_news['News']]\n",
        "df_news['Negative'] = [analyser.polarity_scores(v)['neg'] for v in df_news['News']]\n",
        "df_news['Neutral'] = [analyser.polarity_scores(v)['neu'] for v in df_news['News']]\n",
        "df_news['Positive'] = [analyser.polarity_scores(v)['pos'] for v in df_news['News']]\n",
        "df_news"
      ],
      "execution_count": 33,
      "outputs": [
        {
          "output_type": "execute_result",
          "data": {
            "text/html": [
              "<div>\n",
              "<style scoped>\n",
              "    .dataframe tbody tr th:only-of-type {\n",
              "        vertical-align: middle;\n",
              "    }\n",
              "\n",
              "    .dataframe tbody tr th {\n",
              "        vertical-align: top;\n",
              "    }\n",
              "\n",
              "    .dataframe thead th {\n",
              "        text-align: right;\n",
              "    }\n",
              "</style>\n",
              "<table border=\"1\" class=\"dataframe\">\n",
              "  <thead>\n",
              "    <tr style=\"text-align: right;\">\n",
              "      <th></th>\n",
              "      <th>Date</th>\n",
              "      <th>News</th>\n",
              "      <th>Subjectivity</th>\n",
              "      <th>Polarity</th>\n",
              "      <th>Compound</th>\n",
              "      <th>Negative</th>\n",
              "      <th>Neutral</th>\n",
              "      <th>Positive</th>\n",
              "    </tr>\n",
              "  </thead>\n",
              "  <tbody>\n",
              "    <tr>\n",
              "      <th>0</th>\n",
              "      <td>2015-01-02</td>\n",
              "      <td>abalone salmon fish farming environment abalon...</td>\n",
              "      <td>0.396251</td>\n",
              "      <td>0.072491</td>\n",
              "      <td>-0.9670</td>\n",
              "      <td>0.158</td>\n",
              "      <td>0.703</td>\n",
              "      <td>0.139</td>\n",
              "    </tr>\n",
              "    <tr>\n",
              "      <th>1</th>\n",
              "      <td>2015-01-03</td>\n",
              "      <td>adelaide hills face most dangerous fire day si...</td>\n",
              "      <td>0.425466</td>\n",
              "      <td>0.042467</td>\n",
              "      <td>-0.9969</td>\n",
              "      <td>0.203</td>\n",
              "      <td>0.705</td>\n",
              "      <td>0.092</td>\n",
              "    </tr>\n",
              "    <tr>\n",
              "      <th>2</th>\n",
              "      <td>2015-01-04</td>\n",
              "      <td>year old boy dies from deodorant sniffing in ...</td>\n",
              "      <td>0.268105</td>\n",
              "      <td>0.017887</td>\n",
              "      <td>-0.9987</td>\n",
              "      <td>0.205</td>\n",
              "      <td>0.744</td>\n",
              "      <td>0.050</td>\n",
              "    </tr>\n",
              "    <tr>\n",
              "      <th>3</th>\n",
              "      <td>2015-01-05</td>\n",
              "      <td>houses destroyed in sa fires adelaide hills f...</td>\n",
              "      <td>0.336124</td>\n",
              "      <td>0.049471</td>\n",
              "      <td>-0.9945</td>\n",
              "      <td>0.173</td>\n",
              "      <td>0.731</td>\n",
              "      <td>0.096</td>\n",
              "    </tr>\n",
              "    <tr>\n",
              "      <th>4</th>\n",
              "      <td>2015-01-06</td>\n",
              "      <td>airasia black box may be buried australian tra...</td>\n",
              "      <td>0.365741</td>\n",
              "      <td>0.096296</td>\n",
              "      <td>0.5789</td>\n",
              "      <td>0.127</td>\n",
              "      <td>0.764</td>\n",
              "      <td>0.110</td>\n",
              "    </tr>\n",
              "    <tr>\n",
              "      <th>...</th>\n",
              "      <td>...</td>\n",
              "      <td>...</td>\n",
              "      <td>...</td>\n",
              "      <td>...</td>\n",
              "      <td>...</td>\n",
              "      <td>...</td>\n",
              "      <td>...</td>\n",
              "      <td>...</td>\n",
              "    </tr>\n",
              "    <tr>\n",
              "      <th>1820</th>\n",
              "      <td>2019-12-27</td>\n",
              "      <td>abc pic of the week best of alexei navalny off...</td>\n",
              "      <td>0.403056</td>\n",
              "      <td>0.147156</td>\n",
              "      <td>0.9710</td>\n",
              "      <td>0.117</td>\n",
              "      <td>0.734</td>\n",
              "      <td>0.149</td>\n",
              "    </tr>\n",
              "    <tr>\n",
              "      <th>1821</th>\n",
              "      <td>2019-12-28</td>\n",
              "      <td>acosia red elk demonstrating jingle dress danc...</td>\n",
              "      <td>0.334993</td>\n",
              "      <td>0.066252</td>\n",
              "      <td>-0.7717</td>\n",
              "      <td>0.142</td>\n",
              "      <td>0.728</td>\n",
              "      <td>0.130</td>\n",
              "    </tr>\n",
              "    <tr>\n",
              "      <th>1822</th>\n",
              "      <td>2019-12-29</td>\n",
              "      <td>alcohol addiction made me a drug dealer and se...</td>\n",
              "      <td>0.388762</td>\n",
              "      <td>0.105008</td>\n",
              "      <td>-0.9954</td>\n",
              "      <td>0.243</td>\n",
              "      <td>0.632</td>\n",
              "      <td>0.125</td>\n",
              "    </tr>\n",
              "    <tr>\n",
              "      <th>1823</th>\n",
              "      <td>2019-12-30</td>\n",
              "      <td>aerial firefighting over bundoora african swin...</td>\n",
              "      <td>0.327228</td>\n",
              "      <td>0.085472</td>\n",
              "      <td>-0.9888</td>\n",
              "      <td>0.164</td>\n",
              "      <td>0.782</td>\n",
              "      <td>0.054</td>\n",
              "    </tr>\n",
              "    <tr>\n",
              "      <th>1824</th>\n",
              "      <td>2019-12-31</td>\n",
              "      <td>abc reporter liv casben had to seek shelter at...</td>\n",
              "      <td>0.371789</td>\n",
              "      <td>0.029711</td>\n",
              "      <td>-0.9974</td>\n",
              "      <td>0.194</td>\n",
              "      <td>0.716</td>\n",
              "      <td>0.090</td>\n",
              "    </tr>\n",
              "  </tbody>\n",
              "</table>\n",
              "<p>1825 rows × 8 columns</p>\n",
              "</div>"
            ],
            "text/plain": [
              "           Date  ... Positive\n",
              "0    2015-01-02  ...    0.139\n",
              "1    2015-01-03  ...    0.092\n",
              "2    2015-01-04  ...    0.050\n",
              "3    2015-01-05  ...    0.096\n",
              "4    2015-01-06  ...    0.110\n",
              "...         ...  ...      ...\n",
              "1820 2019-12-27  ...    0.149\n",
              "1821 2019-12-28  ...    0.130\n",
              "1822 2019-12-29  ...    0.125\n",
              "1823 2019-12-30  ...    0.054\n",
              "1824 2019-12-31  ...    0.090\n",
              "\n",
              "[1825 rows x 8 columns]"
            ]
          },
          "metadata": {
            "tags": []
          },
          "execution_count": 33
        }
      ]
    },
    {
      "cell_type": "code",
      "metadata": {
        "colab": {
          "base_uri": "https://localhost:8080/",
          "height": 997
        },
        "id": "gBcnKCr4Chs_",
        "outputId": "9b23df39-cc06-4fcd-c09a-124d4d573682"
      },
      "source": [
        "df_merge = pd.merge(df_prices, df_news, how='inner', on='Date')\n",
        "df_merge"
      ],
      "execution_count": 34,
      "outputs": [
        {
          "output_type": "execute_result",
          "data": {
            "text/html": [
              "<div>\n",
              "<style scoped>\n",
              "    .dataframe tbody tr th:only-of-type {\n",
              "        vertical-align: middle;\n",
              "    }\n",
              "\n",
              "    .dataframe tbody tr th {\n",
              "        vertical-align: top;\n",
              "    }\n",
              "\n",
              "    .dataframe thead th {\n",
              "        text-align: right;\n",
              "    }\n",
              "</style>\n",
              "<table border=\"1\" class=\"dataframe\">\n",
              "  <thead>\n",
              "    <tr style=\"text-align: right;\">\n",
              "      <th></th>\n",
              "      <th>Date</th>\n",
              "      <th>Open</th>\n",
              "      <th>High</th>\n",
              "      <th>Low</th>\n",
              "      <th>Close</th>\n",
              "      <th>Adj Close</th>\n",
              "      <th>Volume</th>\n",
              "      <th>News</th>\n",
              "      <th>Subjectivity</th>\n",
              "      <th>Polarity</th>\n",
              "      <th>Compound</th>\n",
              "      <th>Negative</th>\n",
              "      <th>Neutral</th>\n",
              "      <th>Positive</th>\n",
              "    </tr>\n",
              "  </thead>\n",
              "  <tbody>\n",
              "    <tr>\n",
              "      <th>0</th>\n",
              "      <td>2015-01-02</td>\n",
              "      <td>5411.000000</td>\n",
              "      <td>5436.299805</td>\n",
              "      <td>5387.000000</td>\n",
              "      <td>5435.899902</td>\n",
              "      <td>5435.899902</td>\n",
              "      <td>0.0</td>\n",
              "      <td>abalone salmon fish farming environment abalon...</td>\n",
              "      <td>0.396251</td>\n",
              "      <td>0.072491</td>\n",
              "      <td>-0.9670</td>\n",
              "      <td>0.158</td>\n",
              "      <td>0.703</td>\n",
              "      <td>0.139</td>\n",
              "    </tr>\n",
              "    <tr>\n",
              "      <th>1</th>\n",
              "      <td>2015-01-05</td>\n",
              "      <td>5435.899902</td>\n",
              "      <td>5470.399902</td>\n",
              "      <td>5429.600098</td>\n",
              "      <td>5450.299805</td>\n",
              "      <td>5450.299805</td>\n",
              "      <td>0.0</td>\n",
              "      <td>houses destroyed in sa fires adelaide hills f...</td>\n",
              "      <td>0.336124</td>\n",
              "      <td>0.049471</td>\n",
              "      <td>-0.9945</td>\n",
              "      <td>0.173</td>\n",
              "      <td>0.731</td>\n",
              "      <td>0.096</td>\n",
              "    </tr>\n",
              "    <tr>\n",
              "      <th>2</th>\n",
              "      <td>2015-01-06</td>\n",
              "      <td>5450.299805</td>\n",
              "      <td>5450.299805</td>\n",
              "      <td>5338.600098</td>\n",
              "      <td>5364.799805</td>\n",
              "      <td>5364.799805</td>\n",
              "      <td>0.0</td>\n",
              "      <td>airasia black box may be buried australian tra...</td>\n",
              "      <td>0.365741</td>\n",
              "      <td>0.096296</td>\n",
              "      <td>0.5789</td>\n",
              "      <td>0.127</td>\n",
              "      <td>0.764</td>\n",
              "      <td>0.110</td>\n",
              "    </tr>\n",
              "    <tr>\n",
              "      <th>3</th>\n",
              "      <td>2015-01-07</td>\n",
              "      <td>5364.799805</td>\n",
              "      <td>5369.799805</td>\n",
              "      <td>5318.700195</td>\n",
              "      <td>5353.600098</td>\n",
              "      <td>5353.600098</td>\n",
              "      <td>0.0</td>\n",
              "      <td>bali nine member mayuran sukumaran loses appea...</td>\n",
              "      <td>0.430429</td>\n",
              "      <td>-0.080022</td>\n",
              "      <td>-0.9948</td>\n",
              "      <td>0.288</td>\n",
              "      <td>0.660</td>\n",
              "      <td>0.052</td>\n",
              "    </tr>\n",
              "    <tr>\n",
              "      <th>4</th>\n",
              "      <td>2015-01-08</td>\n",
              "      <td>5353.600098</td>\n",
              "      <td>5395.799805</td>\n",
              "      <td>5353.600098</td>\n",
              "      <td>5381.500000</td>\n",
              "      <td>5381.500000</td>\n",
              "      <td>0.0</td>\n",
              "      <td>bindoon volunteer firefighters survive burnove...</td>\n",
              "      <td>0.302564</td>\n",
              "      <td>-0.003846</td>\n",
              "      <td>0.6705</td>\n",
              "      <td>0.042</td>\n",
              "      <td>0.881</td>\n",
              "      <td>0.077</td>\n",
              "    </tr>\n",
              "    <tr>\n",
              "      <th>...</th>\n",
              "      <td>...</td>\n",
              "      <td>...</td>\n",
              "      <td>...</td>\n",
              "      <td>...</td>\n",
              "      <td>...</td>\n",
              "      <td>...</td>\n",
              "      <td>...</td>\n",
              "      <td>...</td>\n",
              "      <td>...</td>\n",
              "      <td>...</td>\n",
              "      <td>...</td>\n",
              "      <td>...</td>\n",
              "      <td>...</td>\n",
              "      <td>...</td>\n",
              "    </tr>\n",
              "    <tr>\n",
              "      <th>1259</th>\n",
              "      <td>2019-12-23</td>\n",
              "      <td>6816.299805</td>\n",
              "      <td>6816.299805</td>\n",
              "      <td>6785.100098</td>\n",
              "      <td>6785.100098</td>\n",
              "      <td>6785.100098</td>\n",
              "      <td>364700.0</td>\n",
              "      <td>accused religious fraudster ripped m from wors...</td>\n",
              "      <td>0.321050</td>\n",
              "      <td>-0.054816</td>\n",
              "      <td>-0.9974</td>\n",
              "      <td>0.225</td>\n",
              "      <td>0.644</td>\n",
              "      <td>0.132</td>\n",
              "    </tr>\n",
              "    <tr>\n",
              "      <th>1260</th>\n",
              "      <td>2019-12-24</td>\n",
              "      <td>6785.100098</td>\n",
              "      <td>6794.899902</td>\n",
              "      <td>6776.200195</td>\n",
              "      <td>6794.200195</td>\n",
              "      <td>6794.200195</td>\n",
              "      <td>201800.0</td>\n",
              "      <td>killed as bus plunges into ravine in indonesi...</td>\n",
              "      <td>0.296311</td>\n",
              "      <td>0.025105</td>\n",
              "      <td>-0.9955</td>\n",
              "      <td>0.175</td>\n",
              "      <td>0.757</td>\n",
              "      <td>0.068</td>\n",
              "    </tr>\n",
              "    <tr>\n",
              "      <th>1261</th>\n",
              "      <td>2019-12-27</td>\n",
              "      <td>6794.200195</td>\n",
              "      <td>6822.100098</td>\n",
              "      <td>6794.200195</td>\n",
              "      <td>6821.700195</td>\n",
              "      <td>6821.700195</td>\n",
              "      <td>290100.0</td>\n",
              "      <td>abc pic of the week best of alexei navalny off...</td>\n",
              "      <td>0.403056</td>\n",
              "      <td>0.147156</td>\n",
              "      <td>0.9710</td>\n",
              "      <td>0.117</td>\n",
              "      <td>0.734</td>\n",
              "      <td>0.149</td>\n",
              "    </tr>\n",
              "    <tr>\n",
              "      <th>1262</th>\n",
              "      <td>2019-12-30</td>\n",
              "      <td>6821.700195</td>\n",
              "      <td>6824.700195</td>\n",
              "      <td>6764.600098</td>\n",
              "      <td>6804.899902</td>\n",
              "      <td>6804.899902</td>\n",
              "      <td>294800.0</td>\n",
              "      <td>aerial firefighting over bundoora african swin...</td>\n",
              "      <td>0.327228</td>\n",
              "      <td>0.085472</td>\n",
              "      <td>-0.9888</td>\n",
              "      <td>0.164</td>\n",
              "      <td>0.782</td>\n",
              "      <td>0.054</td>\n",
              "    </tr>\n",
              "    <tr>\n",
              "      <th>1263</th>\n",
              "      <td>2019-12-31</td>\n",
              "      <td>6804.899902</td>\n",
              "      <td>6804.899902</td>\n",
              "      <td>6684.100098</td>\n",
              "      <td>6684.100098</td>\n",
              "      <td>6684.100098</td>\n",
              "      <td>314200.0</td>\n",
              "      <td>abc reporter liv casben had to seek shelter at...</td>\n",
              "      <td>0.371789</td>\n",
              "      <td>0.029711</td>\n",
              "      <td>-0.9974</td>\n",
              "      <td>0.194</td>\n",
              "      <td>0.716</td>\n",
              "      <td>0.090</td>\n",
              "    </tr>\n",
              "  </tbody>\n",
              "</table>\n",
              "<p>1264 rows × 14 columns</p>\n",
              "</div>"
            ],
            "text/plain": [
              "           Date         Open         High  ...  Negative  Neutral  Positive\n",
              "0    2015-01-02  5411.000000  5436.299805  ...     0.158    0.703     0.139\n",
              "1    2015-01-05  5435.899902  5470.399902  ...     0.173    0.731     0.096\n",
              "2    2015-01-06  5450.299805  5450.299805  ...     0.127    0.764     0.110\n",
              "3    2015-01-07  5364.799805  5369.799805  ...     0.288    0.660     0.052\n",
              "4    2015-01-08  5353.600098  5395.799805  ...     0.042    0.881     0.077\n",
              "...         ...          ...          ...  ...       ...      ...       ...\n",
              "1259 2019-12-23  6816.299805  6816.299805  ...     0.225    0.644     0.132\n",
              "1260 2019-12-24  6785.100098  6794.899902  ...     0.175    0.757     0.068\n",
              "1261 2019-12-27  6794.200195  6822.100098  ...     0.117    0.734     0.149\n",
              "1262 2019-12-30  6821.700195  6824.700195  ...     0.164    0.782     0.054\n",
              "1263 2019-12-31  6804.899902  6804.899902  ...     0.194    0.716     0.090\n",
              "\n",
              "[1264 rows x 14 columns]"
            ]
          },
          "metadata": {
            "tags": []
          },
          "execution_count": 34
        }
      ]
    },
    {
      "cell_type": "code",
      "metadata": {
        "colab": {
          "base_uri": "https://localhost:8080/",
          "height": 419
        },
        "id": "4IDTFuFSCxPZ",
        "outputId": "180f6f8b-a114-4ecb-ebcd-b0973e8bb27c"
      },
      "source": [
        "df = df_merge[['Close','Subjectivity', 'Polarity', 'Compound', 'Negative', 'Neutral' ,'Positive']]\n",
        "df"
      ],
      "execution_count": 35,
      "outputs": [
        {
          "output_type": "execute_result",
          "data": {
            "text/html": [
              "<div>\n",
              "<style scoped>\n",
              "    .dataframe tbody tr th:only-of-type {\n",
              "        vertical-align: middle;\n",
              "    }\n",
              "\n",
              "    .dataframe tbody tr th {\n",
              "        vertical-align: top;\n",
              "    }\n",
              "\n",
              "    .dataframe thead th {\n",
              "        text-align: right;\n",
              "    }\n",
              "</style>\n",
              "<table border=\"1\" class=\"dataframe\">\n",
              "  <thead>\n",
              "    <tr style=\"text-align: right;\">\n",
              "      <th></th>\n",
              "      <th>Close</th>\n",
              "      <th>Subjectivity</th>\n",
              "      <th>Polarity</th>\n",
              "      <th>Compound</th>\n",
              "      <th>Negative</th>\n",
              "      <th>Neutral</th>\n",
              "      <th>Positive</th>\n",
              "    </tr>\n",
              "  </thead>\n",
              "  <tbody>\n",
              "    <tr>\n",
              "      <th>0</th>\n",
              "      <td>5435.899902</td>\n",
              "      <td>0.396251</td>\n",
              "      <td>0.072491</td>\n",
              "      <td>-0.9670</td>\n",
              "      <td>0.158</td>\n",
              "      <td>0.703</td>\n",
              "      <td>0.139</td>\n",
              "    </tr>\n",
              "    <tr>\n",
              "      <th>1</th>\n",
              "      <td>5450.299805</td>\n",
              "      <td>0.336124</td>\n",
              "      <td>0.049471</td>\n",
              "      <td>-0.9945</td>\n",
              "      <td>0.173</td>\n",
              "      <td>0.731</td>\n",
              "      <td>0.096</td>\n",
              "    </tr>\n",
              "    <tr>\n",
              "      <th>2</th>\n",
              "      <td>5364.799805</td>\n",
              "      <td>0.365741</td>\n",
              "      <td>0.096296</td>\n",
              "      <td>0.5789</td>\n",
              "      <td>0.127</td>\n",
              "      <td>0.764</td>\n",
              "      <td>0.110</td>\n",
              "    </tr>\n",
              "    <tr>\n",
              "      <th>3</th>\n",
              "      <td>5353.600098</td>\n",
              "      <td>0.430429</td>\n",
              "      <td>-0.080022</td>\n",
              "      <td>-0.9948</td>\n",
              "      <td>0.288</td>\n",
              "      <td>0.660</td>\n",
              "      <td>0.052</td>\n",
              "    </tr>\n",
              "    <tr>\n",
              "      <th>4</th>\n",
              "      <td>5381.500000</td>\n",
              "      <td>0.302564</td>\n",
              "      <td>-0.003846</td>\n",
              "      <td>0.6705</td>\n",
              "      <td>0.042</td>\n",
              "      <td>0.881</td>\n",
              "      <td>0.077</td>\n",
              "    </tr>\n",
              "    <tr>\n",
              "      <th>...</th>\n",
              "      <td>...</td>\n",
              "      <td>...</td>\n",
              "      <td>...</td>\n",
              "      <td>...</td>\n",
              "      <td>...</td>\n",
              "      <td>...</td>\n",
              "      <td>...</td>\n",
              "    </tr>\n",
              "    <tr>\n",
              "      <th>1259</th>\n",
              "      <td>6785.100098</td>\n",
              "      <td>0.321050</td>\n",
              "      <td>-0.054816</td>\n",
              "      <td>-0.9974</td>\n",
              "      <td>0.225</td>\n",
              "      <td>0.644</td>\n",
              "      <td>0.132</td>\n",
              "    </tr>\n",
              "    <tr>\n",
              "      <th>1260</th>\n",
              "      <td>6794.200195</td>\n",
              "      <td>0.296311</td>\n",
              "      <td>0.025105</td>\n",
              "      <td>-0.9955</td>\n",
              "      <td>0.175</td>\n",
              "      <td>0.757</td>\n",
              "      <td>0.068</td>\n",
              "    </tr>\n",
              "    <tr>\n",
              "      <th>1261</th>\n",
              "      <td>6821.700195</td>\n",
              "      <td>0.403056</td>\n",
              "      <td>0.147156</td>\n",
              "      <td>0.9710</td>\n",
              "      <td>0.117</td>\n",
              "      <td>0.734</td>\n",
              "      <td>0.149</td>\n",
              "    </tr>\n",
              "    <tr>\n",
              "      <th>1262</th>\n",
              "      <td>6804.899902</td>\n",
              "      <td>0.327228</td>\n",
              "      <td>0.085472</td>\n",
              "      <td>-0.9888</td>\n",
              "      <td>0.164</td>\n",
              "      <td>0.782</td>\n",
              "      <td>0.054</td>\n",
              "    </tr>\n",
              "    <tr>\n",
              "      <th>1263</th>\n",
              "      <td>6684.100098</td>\n",
              "      <td>0.371789</td>\n",
              "      <td>0.029711</td>\n",
              "      <td>-0.9974</td>\n",
              "      <td>0.194</td>\n",
              "      <td>0.716</td>\n",
              "      <td>0.090</td>\n",
              "    </tr>\n",
              "  </tbody>\n",
              "</table>\n",
              "<p>1264 rows × 7 columns</p>\n",
              "</div>"
            ],
            "text/plain": [
              "            Close  Subjectivity  Polarity  ...  Negative  Neutral  Positive\n",
              "0     5435.899902      0.396251  0.072491  ...     0.158    0.703     0.139\n",
              "1     5450.299805      0.336124  0.049471  ...     0.173    0.731     0.096\n",
              "2     5364.799805      0.365741  0.096296  ...     0.127    0.764     0.110\n",
              "3     5353.600098      0.430429 -0.080022  ...     0.288    0.660     0.052\n",
              "4     5381.500000      0.302564 -0.003846  ...     0.042    0.881     0.077\n",
              "...           ...           ...       ...  ...       ...      ...       ...\n",
              "1259  6785.100098      0.321050 -0.054816  ...     0.225    0.644     0.132\n",
              "1260  6794.200195      0.296311  0.025105  ...     0.175    0.757     0.068\n",
              "1261  6821.700195      0.403056  0.147156  ...     0.117    0.734     0.149\n",
              "1262  6804.899902      0.327228  0.085472  ...     0.164    0.782     0.054\n",
              "1263  6684.100098      0.371789  0.029711  ...     0.194    0.716     0.090\n",
              "\n",
              "[1264 rows x 7 columns]"
            ]
          },
          "metadata": {
            "tags": []
          },
          "execution_count": 35
        }
      ]
    },
    {
      "cell_type": "code",
      "metadata": {
        "colab": {
          "base_uri": "https://localhost:8080/",
          "height": 204
        },
        "id": "dzarQFfrC3QT",
        "outputId": "8b4fb923-e2e9-4eea-f0ee-9b5453b72379"
      },
      "source": [
        "from sklearn.preprocessing import MinMaxScaler\n",
        "sc = MinMaxScaler()\n",
        "new_df = pd.DataFrame(sc.fit_transform(df))\n",
        "new_df.columns = df.columns\n",
        "new_df.index = df.index\n",
        "new_df.head()"
      ],
      "execution_count": 36,
      "outputs": [
        {
          "output_type": "execute_result",
          "data": {
            "text/html": [
              "<div>\n",
              "<style scoped>\n",
              "    .dataframe tbody tr th:only-of-type {\n",
              "        vertical-align: middle;\n",
              "    }\n",
              "\n",
              "    .dataframe tbody tr th {\n",
              "        vertical-align: top;\n",
              "    }\n",
              "\n",
              "    .dataframe thead th {\n",
              "        text-align: right;\n",
              "    }\n",
              "</style>\n",
              "<table border=\"1\" class=\"dataframe\">\n",
              "  <thead>\n",
              "    <tr style=\"text-align: right;\">\n",
              "      <th></th>\n",
              "      <th>Close</th>\n",
              "      <th>Subjectivity</th>\n",
              "      <th>Polarity</th>\n",
              "      <th>Compound</th>\n",
              "      <th>Negative</th>\n",
              "      <th>Neutral</th>\n",
              "      <th>Positive</th>\n",
              "    </tr>\n",
              "  </thead>\n",
              "  <tbody>\n",
              "    <tr>\n",
              "      <th>0</th>\n",
              "      <td>0.319531</td>\n",
              "      <td>0.718150</td>\n",
              "      <td>0.650088</td>\n",
              "      <td>0.016486</td>\n",
              "      <td>0.548611</td>\n",
              "      <td>0.214286</td>\n",
              "      <td>0.798851</td>\n",
              "    </tr>\n",
              "    <tr>\n",
              "      <th>1</th>\n",
              "      <td>0.326392</td>\n",
              "      <td>0.609178</td>\n",
              "      <td>0.570883</td>\n",
              "      <td>0.002706</td>\n",
              "      <td>0.600694</td>\n",
              "      <td>0.288360</td>\n",
              "      <td>0.551724</td>\n",
              "    </tr>\n",
              "    <tr>\n",
              "      <th>2</th>\n",
              "      <td>0.285653</td>\n",
              "      <td>0.662854</td>\n",
              "      <td>0.731991</td>\n",
              "      <td>0.791141</td>\n",
              "      <td>0.440972</td>\n",
              "      <td>0.375661</td>\n",
              "      <td>0.632184</td>\n",
              "    </tr>\n",
              "    <tr>\n",
              "      <th>3</th>\n",
              "      <td>0.280316</td>\n",
              "      <td>0.780092</td>\n",
              "      <td>0.125352</td>\n",
              "      <td>0.002556</td>\n",
              "      <td>1.000000</td>\n",
              "      <td>0.100529</td>\n",
              "      <td>0.298851</td>\n",
              "    </tr>\n",
              "    <tr>\n",
              "      <th>4</th>\n",
              "      <td>0.293610</td>\n",
              "      <td>0.548355</td>\n",
              "      <td>0.387441</td>\n",
              "      <td>0.837041</td>\n",
              "      <td>0.145833</td>\n",
              "      <td>0.685185</td>\n",
              "      <td>0.442529</td>\n",
              "    </tr>\n",
              "  </tbody>\n",
              "</table>\n",
              "</div>"
            ],
            "text/plain": [
              "      Close  Subjectivity  Polarity  Compound  Negative   Neutral  Positive\n",
              "0  0.319531      0.718150  0.650088  0.016486  0.548611  0.214286  0.798851\n",
              "1  0.326392      0.609178  0.570883  0.002706  0.600694  0.288360  0.551724\n",
              "2  0.285653      0.662854  0.731991  0.791141  0.440972  0.375661  0.632184\n",
              "3  0.280316      0.780092  0.125352  0.002556  1.000000  0.100529  0.298851\n",
              "4  0.293610      0.548355  0.387441  0.837041  0.145833  0.685185  0.442529"
            ]
          },
          "metadata": {
            "tags": []
          },
          "execution_count": 36
        }
      ]
    },
    {
      "cell_type": "code",
      "metadata": {
        "id": "t4mVarJVC6oq"
      },
      "source": [
        "X = new_df.drop('Close', axis=1)\n",
        "y = new_df['Close']"
      ],
      "execution_count": 37,
      "outputs": []
    },
    {
      "cell_type": "code",
      "metadata": {
        "colab": {
          "base_uri": "https://localhost:8080/",
          "height": 204
        },
        "id": "3FzYSXfpC9fo",
        "outputId": "db8b8df6-65a0-431f-fdb6-cab3520c955b"
      },
      "source": [
        "X.head()"
      ],
      "execution_count": 38,
      "outputs": [
        {
          "output_type": "execute_result",
          "data": {
            "text/html": [
              "<div>\n",
              "<style scoped>\n",
              "    .dataframe tbody tr th:only-of-type {\n",
              "        vertical-align: middle;\n",
              "    }\n",
              "\n",
              "    .dataframe tbody tr th {\n",
              "        vertical-align: top;\n",
              "    }\n",
              "\n",
              "    .dataframe thead th {\n",
              "        text-align: right;\n",
              "    }\n",
              "</style>\n",
              "<table border=\"1\" class=\"dataframe\">\n",
              "  <thead>\n",
              "    <tr style=\"text-align: right;\">\n",
              "      <th></th>\n",
              "      <th>Subjectivity</th>\n",
              "      <th>Polarity</th>\n",
              "      <th>Compound</th>\n",
              "      <th>Negative</th>\n",
              "      <th>Neutral</th>\n",
              "      <th>Positive</th>\n",
              "    </tr>\n",
              "  </thead>\n",
              "  <tbody>\n",
              "    <tr>\n",
              "      <th>0</th>\n",
              "      <td>0.718150</td>\n",
              "      <td>0.650088</td>\n",
              "      <td>0.016486</td>\n",
              "      <td>0.548611</td>\n",
              "      <td>0.214286</td>\n",
              "      <td>0.798851</td>\n",
              "    </tr>\n",
              "    <tr>\n",
              "      <th>1</th>\n",
              "      <td>0.609178</td>\n",
              "      <td>0.570883</td>\n",
              "      <td>0.002706</td>\n",
              "      <td>0.600694</td>\n",
              "      <td>0.288360</td>\n",
              "      <td>0.551724</td>\n",
              "    </tr>\n",
              "    <tr>\n",
              "      <th>2</th>\n",
              "      <td>0.662854</td>\n",
              "      <td>0.731991</td>\n",
              "      <td>0.791141</td>\n",
              "      <td>0.440972</td>\n",
              "      <td>0.375661</td>\n",
              "      <td>0.632184</td>\n",
              "    </tr>\n",
              "    <tr>\n",
              "      <th>3</th>\n",
              "      <td>0.780092</td>\n",
              "      <td>0.125352</td>\n",
              "      <td>0.002556</td>\n",
              "      <td>1.000000</td>\n",
              "      <td>0.100529</td>\n",
              "      <td>0.298851</td>\n",
              "    </tr>\n",
              "    <tr>\n",
              "      <th>4</th>\n",
              "      <td>0.548355</td>\n",
              "      <td>0.387441</td>\n",
              "      <td>0.837041</td>\n",
              "      <td>0.145833</td>\n",
              "      <td>0.685185</td>\n",
              "      <td>0.442529</td>\n",
              "    </tr>\n",
              "  </tbody>\n",
              "</table>\n",
              "</div>"
            ],
            "text/plain": [
              "   Subjectivity  Polarity  Compound  Negative   Neutral  Positive\n",
              "0      0.718150  0.650088  0.016486  0.548611  0.214286  0.798851\n",
              "1      0.609178  0.570883  0.002706  0.600694  0.288360  0.551724\n",
              "2      0.662854  0.731991  0.791141  0.440972  0.375661  0.632184\n",
              "3      0.780092  0.125352  0.002556  1.000000  0.100529  0.298851\n",
              "4      0.548355  0.387441  0.837041  0.145833  0.685185  0.442529"
            ]
          },
          "metadata": {
            "tags": []
          },
          "execution_count": 38
        }
      ]
    },
    {
      "cell_type": "code",
      "metadata": {
        "colab": {
          "base_uri": "https://localhost:8080/"
        },
        "id": "Y3KfXEy_DFS9",
        "outputId": "054fb2f2-e174-4974-b94f-cc64dc419fac"
      },
      "source": [
        "x_train, x_test, y_train, y_test = train_test_split(X, y, test_size=0.2, random_state = 0)\n",
        "x_train.shape"
      ],
      "execution_count": 39,
      "outputs": [
        {
          "output_type": "execute_result",
          "data": {
            "text/plain": [
              "(1011, 6)"
            ]
          },
          "metadata": {
            "tags": []
          },
          "execution_count": 39
        }
      ]
    },
    {
      "cell_type": "code",
      "metadata": {
        "colab": {
          "base_uri": "https://localhost:8080/",
          "height": 359
        },
        "id": "kF8me3S7DHYa",
        "outputId": "81a7c98f-02e4-4fab-c100-18a29b8189c5"
      },
      "source": [
        "x_train[:10]"
      ],
      "execution_count": 40,
      "outputs": [
        {
          "output_type": "execute_result",
          "data": {
            "text/html": [
              "<div>\n",
              "<style scoped>\n",
              "    .dataframe tbody tr th:only-of-type {\n",
              "        vertical-align: middle;\n",
              "    }\n",
              "\n",
              "    .dataframe tbody tr th {\n",
              "        vertical-align: top;\n",
              "    }\n",
              "\n",
              "    .dataframe thead th {\n",
              "        text-align: right;\n",
              "    }\n",
              "</style>\n",
              "<table border=\"1\" class=\"dataframe\">\n",
              "  <thead>\n",
              "    <tr style=\"text-align: right;\">\n",
              "      <th></th>\n",
              "      <th>Subjectivity</th>\n",
              "      <th>Polarity</th>\n",
              "      <th>Compound</th>\n",
              "      <th>Negative</th>\n",
              "      <th>Neutral</th>\n",
              "      <th>Positive</th>\n",
              "    </tr>\n",
              "  </thead>\n",
              "  <tbody>\n",
              "    <tr>\n",
              "      <th>31</th>\n",
              "      <td>0.608455</td>\n",
              "      <td>0.498568</td>\n",
              "      <td>0.000050</td>\n",
              "      <td>0.770833</td>\n",
              "      <td>0.068783</td>\n",
              "      <td>0.747126</td>\n",
              "    </tr>\n",
              "    <tr>\n",
              "      <th>412</th>\n",
              "      <td>0.630574</td>\n",
              "      <td>0.412302</td>\n",
              "      <td>0.000200</td>\n",
              "      <td>0.673611</td>\n",
              "      <td>0.193122</td>\n",
              "      <td>0.637931</td>\n",
              "    </tr>\n",
              "    <tr>\n",
              "      <th>64</th>\n",
              "      <td>0.637332</td>\n",
              "      <td>0.551458</td>\n",
              "      <td>0.001654</td>\n",
              "      <td>0.506944</td>\n",
              "      <td>0.317460</td>\n",
              "      <td>0.643678</td>\n",
              "    </tr>\n",
              "    <tr>\n",
              "      <th>957</th>\n",
              "      <td>0.691133</td>\n",
              "      <td>0.498499</td>\n",
              "      <td>0.000651</td>\n",
              "      <td>0.649306</td>\n",
              "      <td>0.335979</td>\n",
              "      <td>0.367816</td>\n",
              "    </tr>\n",
              "    <tr>\n",
              "      <th>1208</th>\n",
              "      <td>0.833326</td>\n",
              "      <td>0.556192</td>\n",
              "      <td>0.005612</td>\n",
              "      <td>0.565972</td>\n",
              "      <td>0.251323</td>\n",
              "      <td>0.683908</td>\n",
              "    </tr>\n",
              "    <tr>\n",
              "      <th>505</th>\n",
              "      <td>0.678290</td>\n",
              "      <td>0.721385</td>\n",
              "      <td>0.005061</td>\n",
              "      <td>0.538194</td>\n",
              "      <td>0.312169</td>\n",
              "      <td>0.603448</td>\n",
              "    </tr>\n",
              "    <tr>\n",
              "      <th>1213</th>\n",
              "      <td>0.633695</td>\n",
              "      <td>0.421303</td>\n",
              "      <td>0.000551</td>\n",
              "      <td>0.656250</td>\n",
              "      <td>0.328042</td>\n",
              "      <td>0.367816</td>\n",
              "    </tr>\n",
              "    <tr>\n",
              "      <th>920</th>\n",
              "      <td>0.609400</td>\n",
              "      <td>0.469924</td>\n",
              "      <td>0.000902</td>\n",
              "      <td>0.621528</td>\n",
              "      <td>0.291005</td>\n",
              "      <td>0.511494</td>\n",
              "    </tr>\n",
              "    <tr>\n",
              "      <th>740</th>\n",
              "      <td>0.689754</td>\n",
              "      <td>0.595403</td>\n",
              "      <td>0.000601</td>\n",
              "      <td>0.611111</td>\n",
              "      <td>0.275132</td>\n",
              "      <td>0.563218</td>\n",
              "    </tr>\n",
              "    <tr>\n",
              "      <th>999</th>\n",
              "      <td>0.659840</td>\n",
              "      <td>0.370484</td>\n",
              "      <td>0.001353</td>\n",
              "      <td>0.569444</td>\n",
              "      <td>0.325397</td>\n",
              "      <td>0.522989</td>\n",
              "    </tr>\n",
              "  </tbody>\n",
              "</table>\n",
              "</div>"
            ],
            "text/plain": [
              "      Subjectivity  Polarity  Compound  Negative   Neutral  Positive\n",
              "31        0.608455  0.498568  0.000050  0.770833  0.068783  0.747126\n",
              "412       0.630574  0.412302  0.000200  0.673611  0.193122  0.637931\n",
              "64        0.637332  0.551458  0.001654  0.506944  0.317460  0.643678\n",
              "957       0.691133  0.498499  0.000651  0.649306  0.335979  0.367816\n",
              "1208      0.833326  0.556192  0.005612  0.565972  0.251323  0.683908\n",
              "505       0.678290  0.721385  0.005061  0.538194  0.312169  0.603448\n",
              "1213      0.633695  0.421303  0.000551  0.656250  0.328042  0.367816\n",
              "920       0.609400  0.469924  0.000902  0.621528  0.291005  0.511494\n",
              "740       0.689754  0.595403  0.000601  0.611111  0.275132  0.563218\n",
              "999       0.659840  0.370484  0.001353  0.569444  0.325397  0.522989"
            ]
          },
          "metadata": {
            "tags": []
          },
          "execution_count": 40
        }
      ]
    },
    {
      "cell_type": "code",
      "metadata": {
        "id": "ahmkL7SyDLSZ"
      },
      "source": [
        "rf = RandomForestRegressor()\n",
        "rf.fit(x_train, y_train)\n",
        "prediction=rf.predict(x_test)"
      ],
      "execution_count": 41,
      "outputs": []
    },
    {
      "cell_type": "code",
      "metadata": {
        "colab": {
          "base_uri": "https://localhost:8080/"
        },
        "id": "G6OmvdxwDNsZ",
        "outputId": "f90bca63-6552-43d9-82a6-3d42732f634d"
      },
      "source": [
        "print(prediction[:10])\n",
        "print(y_test[:10])\n",
        "print(mean_squared_error(prediction,y_test))"
      ],
      "execution_count": 42,
      "outputs": [
        {
          "output_type": "stream",
          "text": [
            "[0.54131273 0.47631523 0.5645538  0.40952738 0.78651357 0.36198322\n",
            " 0.38006508 0.44453144 0.28404116 0.58636682]\n",
            "1163    0.866775\n",
            "299     0.163292\n",
            "747     0.598704\n",
            "5       0.333683\n",
            "1165    0.859199\n",
            "427     0.295659\n",
            "731     0.570925\n",
            "658     0.476676\n",
            "320     0.082099\n",
            "689     0.436842\n",
            "Name: Close, dtype: float64\n",
            "0.02415099330000142\n"
          ],
          "name": "stdout"
        }
      ]
    },
    {
      "cell_type": "code",
      "metadata": {
        "id": "hYMb3LjMDQ-B"
      },
      "source": [
        "adb = AdaBoostRegressor()\n",
        "adb.fit(x_train, y_train)\n",
        "predictions = adb.predict(x_test)"
      ],
      "execution_count": 43,
      "outputs": []
    },
    {
      "cell_type": "code",
      "metadata": {
        "colab": {
          "base_uri": "https://localhost:8080/"
        },
        "id": "6JRjUzgTDUnC",
        "outputId": "cdd0d0e1-b528-4f56-9450-a37bc84376f6"
      },
      "source": [
        "print(mean_squared_error(predictions, y_test))"
      ],
      "execution_count": 44,
      "outputs": [
        {
          "output_type": "stream",
          "text": [
            "0.030872531374447704\n"
          ],
          "name": "stdout"
        }
      ]
    },
    {
      "cell_type": "code",
      "metadata": {
        "id": "3swKbrn6DYEq"
      },
      "source": [
        "from sklearn.tree import DecisionTreeRegressor\n",
        "dec_tree = DecisionTreeRegressor()\n",
        "dec_tree.fit(x_train, y_train)\n",
        "predictions = dec_tree.predict(x_test)"
      ],
      "execution_count": 45,
      "outputs": []
    },
    {
      "cell_type": "code",
      "metadata": {
        "colab": {
          "base_uri": "https://localhost:8080/"
        },
        "id": "Misp4_8lDZ-7",
        "outputId": "d1629726-e115-499e-b8a1-5165a0117e11"
      },
      "source": [
        "print(predictions[:10])\n",
        "print(y_test[:10])\n",
        "print(mean_squared_error(predictions,y_test))"
      ],
      "execution_count": 46,
      "outputs": [
        {
          "output_type": "stream",
          "text": [
            "[0.19907574 0.47972564 0.61561914 0.39038463 0.93858108 0.42221376\n",
            " 0.46843284 0.67884884 0.19307198 0.63210558]\n",
            "1163    0.866775\n",
            "299     0.163292\n",
            "747     0.598704\n",
            "5       0.333683\n",
            "1165    0.859199\n",
            "427     0.295659\n",
            "731     0.570925\n",
            "658     0.476676\n",
            "320     0.082099\n",
            "689     0.436842\n",
            "Name: Close, dtype: float64\n",
            "0.05068240280497583\n"
          ],
          "name": "stdout"
        }
      ]
    },
    {
      "cell_type": "code",
      "metadata": {
        "colab": {
          "base_uri": "https://localhost:8080/"
        },
        "id": "5zpFyranDeqD",
        "outputId": "f18bdfa3-0111-4c22-9a53-0e02e5b0d4fe"
      },
      "source": [
        "lgb = lightgbm.LGBMRegressor()\n",
        "lgb.fit(x_train, y_train)"
      ],
      "execution_count": 47,
      "outputs": [
        {
          "output_type": "execute_result",
          "data": {
            "text/plain": [
              "LGBMRegressor(boosting_type='gbdt', class_weight=None, colsample_bytree=1.0,\n",
              "              importance_type='split', learning_rate=0.1, max_depth=-1,\n",
              "              min_child_samples=20, min_child_weight=0.001, min_split_gain=0.0,\n",
              "              n_estimators=100, n_jobs=-1, num_leaves=31, objective=None,\n",
              "              random_state=None, reg_alpha=0.0, reg_lambda=0.0, silent=True,\n",
              "              subsample=1.0, subsample_for_bin=200000, subsample_freq=0)"
            ]
          },
          "metadata": {
            "tags": []
          },
          "execution_count": 47
        }
      ]
    },
    {
      "cell_type": "code",
      "metadata": {
        "colab": {
          "base_uri": "https://localhost:8080/"
        },
        "id": "FYZXNJbrDgpi",
        "outputId": "f62cdd1b-9857-4a01-fecd-415ce7a0ecf2"
      },
      "source": [
        "predictions = lgb.predict(x_test)\n",
        "print(mean_squared_error(predictions,y_test))"
      ],
      "execution_count": 48,
      "outputs": [
        {
          "output_type": "stream",
          "text": [
            "0.02474222428039369\n"
          ],
          "name": "stdout"
        }
      ]
    },
    {
      "cell_type": "code",
      "metadata": {
        "colab": {
          "base_uri": "https://localhost:8080/"
        },
        "id": "OJ3dj4lhDmFn",
        "outputId": "7d6dfb3c-8490-4793-a553-b4fd10618740"
      },
      "source": [
        "xgb = xgboost.XGBRegressor()\n",
        "xgb.fit(x_train, y_train)"
      ],
      "execution_count": 49,
      "outputs": [
        {
          "output_type": "stream",
          "text": [
            "[03:51:43] WARNING: /workspace/src/objective/regression_obj.cu:152: reg:linear is now deprecated in favor of reg:squarederror.\n"
          ],
          "name": "stdout"
        },
        {
          "output_type": "execute_result",
          "data": {
            "text/plain": [
              "XGBRegressor(base_score=0.5, booster='gbtree', colsample_bylevel=1,\n",
              "             colsample_bynode=1, colsample_bytree=1, gamma=0,\n",
              "             importance_type='gain', learning_rate=0.1, max_delta_step=0,\n",
              "             max_depth=3, min_child_weight=1, missing=None, n_estimators=100,\n",
              "             n_jobs=1, nthread=None, objective='reg:linear', random_state=0,\n",
              "             reg_alpha=0, reg_lambda=1, scale_pos_weight=1, seed=None,\n",
              "             silent=None, subsample=1, verbosity=1)"
            ]
          },
          "metadata": {
            "tags": []
          },
          "execution_count": 49
        }
      ]
    },
    {
      "cell_type": "code",
      "metadata": {
        "colab": {
          "base_uri": "https://localhost:8080/"
        },
        "id": "eeFZZU8LDoQp",
        "outputId": "19605310-7b62-48e0-fd25-1ca47ea0a1d7"
      },
      "source": [
        "predictions = xgb.predict(x_test)\n",
        "print(mean_squared_error(predictions,y_test))"
      ],
      "execution_count": 50,
      "outputs": [
        {
          "output_type": "stream",
          "text": [
            "0.02506060384504161\n"
          ],
          "name": "stdout"
        }
      ]
    },
    {
      "cell_type": "markdown",
      "metadata": {
        "id": "jhxZG0LED2mt"
      },
      "source": [
        "RandomForest = 0.024892547852246108\n",
        "\n",
        "AdaBoost = 0.029284634457126864\n",
        "\n",
        "DecisionTree = 0.04973942603387117\n",
        "\n",
        "LightGBM = 0.02474222428039369\n",
        "\n",
        "XGBoost = 0.02506060384504161\n",
        "\n",
        "Out of all the the machine learning algorithms, **LightGBM is the best to use for sentiment analysis**"
      ]
    },
    {
      "cell_type": "code",
      "metadata": {
        "id": "jd41Maf2EllF"
      },
      "source": [
        ""
      ],
      "execution_count": null,
      "outputs": []
    }
  ]
}